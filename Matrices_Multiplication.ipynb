{
  "nbformat": 4,
  "nbformat_minor": 0,
  "metadata": {
    "colab": {
      "name": "Matrices Multiplication.ipynb",
      "version": "0.3.2",
      "provenance": [],
      "collapsed_sections": [],
      "include_colab_link": true
    },
    "kernelspec": {
      "name": "python3",
      "display_name": "Python 3"
    },
    "accelerator": "GPU"
  },
  "cells": [
    {
      "cell_type": "markdown",
      "metadata": {
        "id": "view-in-github",
        "colab_type": "text"
      },
      "source": [
        "<a href=\"https://colab.research.google.com/github/kdorichev/course-v3/blob/master/Matrices_Multiplication.ipynb\" target=\"_parent\"><img src=\"https://colab.research.google.com/assets/colab-badge.svg\" alt=\"Open In Colab\"/></a>"
      ]
    },
    {
      "cell_type": "markdown",
      "metadata": {
        "id": "aLliB5USge7w",
        "colab_type": "text"
      },
      "source": [
        "# Matrices Multiplication Optimization"
      ]
    },
    {
      "cell_type": "code",
      "metadata": {
        "id": "PkMWmmOpgkf_",
        "colab_type": "code",
        "colab": {}
      },
      "source": [
        "%matplotlib inline\n",
        "import torch\n",
        "import pandas as pd"
      ],
      "execution_count": 0,
      "outputs": []
    },
    {
      "cell_type": "code",
      "metadata": {
        "id": "f50jFwKEg643",
        "colab_type": "code",
        "colab": {}
      },
      "source": [
        "rows, columns = 10, 1000"
      ],
      "execution_count": 0,
      "outputs": []
    },
    {
      "cell_type": "code",
      "metadata": {
        "id": "oI6IGOjCgtOn",
        "colab_type": "code",
        "colab": {}
      },
      "source": [
        "m1 = torch.torch.rand(rows,columns)\n",
        "m2 = torch.torch.rand(columns,rows)"
      ],
      "execution_count": 0,
      "outputs": []
    },
    {
      "cell_type": "code",
      "metadata": {
        "id": "lb1GbM5Og21_",
        "colab_type": "code",
        "colab": {
          "base_uri": "https://localhost:8080/",
          "height": 67
        },
        "outputId": "6e08052d-415b-487a-e954-19f61b409f68"
      },
      "source": [
        "m1[:3,:3]"
      ],
      "execution_count": 4,
      "outputs": [
        {
          "output_type": "execute_result",
          "data": {
            "text/plain": [
              "tensor([[0.3970, 0.4790, 0.2680],\n",
              "        [0.7339, 0.3108, 0.2608],\n",
              "        [0.5491, 0.2250, 0.5323]])"
            ]
          },
          "metadata": {
            "tags": []
          },
          "execution_count": 4
        }
      ]
    },
    {
      "cell_type": "code",
      "metadata": {
        "id": "nyZZqY_nCOkH",
        "colab_type": "code",
        "colab": {}
      },
      "source": [
        "times = {}"
      ],
      "execution_count": 0,
      "outputs": []
    },
    {
      "cell_type": "markdown",
      "metadata": {
        "id": "gHpp5AItflIF",
        "colab_type": "text"
      },
      "source": [
        "## PyTorch Matmul as Baseline"
      ]
    },
    {
      "cell_type": "code",
      "metadata": {
        "id": "hwSrE1PqisoP",
        "colab_type": "code",
        "colab": {
          "base_uri": "https://localhost:8080/",
          "height": 50
        },
        "outputId": "f4d86fb4-0804-482b-92a2-e99d210f8c80"
      },
      "source": [
        "# Baseline \n",
        "t = %timeit -o -n3 torch.matmul(m1,m2)\n",
        "times['PyTorch Matmul'] = [t.best, t.worst]"
      ],
      "execution_count": 6,
      "outputs": [
        {
          "output_type": "stream",
          "text": [
            "The slowest run took 14.91 times longer than the fastest. This could mean that an intermediate result is being cached.\n",
            "3 loops, best of 3: 16.7 µs per loop\n"
          ],
          "name": "stdout"
        }
      ]
    },
    {
      "cell_type": "markdown",
      "metadata": {
        "id": "vBv8GXfQfsKV",
        "colab_type": "text"
      },
      "source": [
        "## Pure Python implementation"
      ]
    },
    {
      "cell_type": "code",
      "metadata": {
        "id": "DJGdlhPJhiSs",
        "colab_type": "code",
        "colab": {}
      },
      "source": [
        "def matmul(a,b):\n",
        "  ar,ac = a.shape\n",
        "  br,bc = b.shape\n",
        "  assert ac==br, f\"Matrices dimensions mismatch for multiplication: ({a.shape[0],a.shape[1]}*{b.shape[0],b.shape[1]})\"\n",
        "  c = torch.zeros(ar,bc)\n",
        "  for i in range(ar):\n",
        "    for j in range(bc):\n",
        "      for k in range(ac):\n",
        "        c[i,j] += a[i,k]*b[k,j]\n",
        "  return c"
      ],
      "execution_count": 0,
      "outputs": []
    },
    {
      "cell_type": "code",
      "metadata": {
        "id": "KJ0l61QemXSm",
        "colab_type": "code",
        "colab": {
          "base_uri": "https://localhost:8080/",
          "height": 34
        },
        "outputId": "d1c23e0a-5606-4853-ff4c-bc8de4f5bedb"
      },
      "source": [
        "t= %timeit -o -n3 matmul(m1,m2)\n",
        "times['Python'] = [t.best, t.worst]"
      ],
      "execution_count": 8,
      "outputs": [
        {
          "output_type": "stream",
          "text": [
            "3 loops, best of 3: 1.81 s per loop\n"
          ],
          "name": "stdout"
        }
      ]
    },
    {
      "cell_type": "code",
      "metadata": {
        "id": "rm7cmgmyvOKP",
        "colab_type": "code",
        "colab": {}
      },
      "source": [
        ""
      ],
      "execution_count": 0,
      "outputs": []
    },
    {
      "cell_type": "markdown",
      "metadata": {
        "id": "SP_4LulJB4E1",
        "colab_type": "text"
      },
      "source": [
        "## Vectorized algorithm"
      ]
    },
    {
      "cell_type": "code",
      "metadata": {
        "id": "NDb3ISZ92eg5",
        "colab_type": "code",
        "colab": {}
      },
      "source": [
        "# Vectorized\n",
        "def matmul(a,b):\n",
        "  ar,ac = a.shape\n",
        "  br,bc = b.shape\n",
        "  assert ac==br, f\"Matrices dimensions mismatch for multiplication: ({a.shape[0],a.shape[1]}*{b.shape[0],b.shape[1]})\"\n",
        "  c = torch.zeros(ar,bc)\n",
        "  for i in range(ar):\n",
        "    for j in range(bc): \n",
        "        c[i,j] = sum(a[i,:]*b[:,j])\n",
        "  return c"
      ],
      "execution_count": 0,
      "outputs": []
    },
    {
      "cell_type": "code",
      "metadata": {
        "id": "gz3c4tZs5m51",
        "colab_type": "code",
        "colab": {
          "base_uri": "https://localhost:8080/",
          "height": 34
        },
        "outputId": "8a28296f-e5bf-4fe6-ac00-2e37b710ebb3"
      },
      "source": [
        "t= %timeit -o -n3 matmul(m1,m2)\n",
        "times['Vectorized'] = [t.best, t.worst]"
      ],
      "execution_count": 10,
      "outputs": [
        {
          "output_type": "stream",
          "text": [
            "3 loops, best of 3: 421 ms per loop\n"
          ],
          "name": "stdout"
        }
      ]
    },
    {
      "cell_type": "markdown",
      "metadata": {
        "id": "ns8fQO_tC0Gh",
        "colab_type": "text"
      },
      "source": [
        "## Vectorized with Broadcasting algorithm"
      ]
    },
    {
      "cell_type": "code",
      "metadata": {
        "id": "hRYTvUYFAaGF",
        "colab_type": "code",
        "colab": {}
      },
      "source": [
        "# Vectorized with broadcasting\n",
        "def matmul(a,b):\n",
        "  ar,ac = a.shape\n",
        "  br,bc = b.shape\n",
        "  assert ac==br, f\"Matrices dimensions mismatch for multiplication: ({a.shape[0],a.shape[1]}*{b.shape[0],b.shape[1]})\"\n",
        "  c = torch.zeros(ar,bc)\n",
        "  for i in range(ar):\n",
        "        c[i]   = (a[i  ].unsqueeze(-1) * b).sum(dim=0)\n",
        "  return c"
      ],
      "execution_count": 0,
      "outputs": []
    },
    {
      "cell_type": "code",
      "metadata": {
        "id": "Q96kv6enDBO6",
        "colab_type": "code",
        "colab": {
          "base_uri": "https://localhost:8080/",
          "height": 34
        },
        "outputId": "4365f22f-0001-4d81-e470-abc0d1719fbc"
      },
      "source": [
        "t= %timeit -o -n3 matmul(m1,m2)\n",
        "times['Vectorized with Broadcasting'] = [t.best, t.worst]"
      ],
      "execution_count": 12,
      "outputs": [
        {
          "output_type": "stream",
          "text": [
            "3 loops, best of 3: 640 µs per loop\n"
          ],
          "name": "stdout"
        }
      ]
    },
    {
      "cell_type": "markdown",
      "metadata": {
        "id": "MHaiEUlmfLXZ",
        "colab_type": "text"
      },
      "source": [
        ""
      ]
    },
    {
      "cell_type": "markdown",
      "metadata": {
        "id": "_lwxekhXfQ4q",
        "colab_type": "text"
      },
      "source": [
        "## Einstein summation algorithm"
      ]
    },
    {
      "cell_type": "code",
      "metadata": {
        "id": "71jiWdx1fKn7",
        "colab_type": "code",
        "colab": {}
      },
      "source": [
        "def matmul(a,b): return torch.einsum('ik,kj->ij', a, b)"
      ],
      "execution_count": 0,
      "outputs": []
    },
    {
      "cell_type": "code",
      "metadata": {
        "id": "lCxtkSLYf3Fn",
        "colab_type": "code",
        "colab": {
          "base_uri": "https://localhost:8080/",
          "height": 50
        },
        "outputId": "88c4c374-64f1-4203-c5b7-9a7df78ef7f4"
      },
      "source": [
        "t= %timeit -o -n3 matmul(m1,m2)\n",
        "times['PyTorch Einsum'] = [t.best, t.worst]"
      ],
      "execution_count": 14,
      "outputs": [
        {
          "output_type": "stream",
          "text": [
            "The slowest run took 6.89 times longer than the fastest. This could mean that an intermediate result is being cached.\n",
            "3 loops, best of 3: 36.2 µs per loop\n"
          ],
          "name": "stdout"
        }
      ]
    },
    {
      "cell_type": "markdown",
      "metadata": {
        "id": "wRvpI9mqj_hE",
        "colab_type": "text"
      },
      "source": [
        "## PyTorch at GPU"
      ]
    },
    {
      "cell_type": "code",
      "metadata": {
        "id": "PL8JR4NQk4Db",
        "colab_type": "code",
        "colab": {
          "base_uri": "https://localhost:8080/",
          "height": 50
        },
        "outputId": "b1876f25-5791-4b04-a257-f3bb554adda8"
      },
      "source": [
        "if torch.cuda.is_available():\n",
        "  m3 = m1.cuda()\n",
        "  m4 = m2.cuda()\n",
        "  t= %timeit -o -n3 matmul(m3,m4)\n",
        "  times['PyTorch CUDA'] = [t.best, t.worst]"
      ],
      "execution_count": 15,
      "outputs": [
        {
          "output_type": "stream",
          "text": [
            "The slowest run took 12.63 times longer than the fastest. This could mean that an intermediate result is being cached.\n",
            "3 loops, best of 3: 39 µs per loop\n"
          ],
          "name": "stdout"
        }
      ]
    },
    {
      "cell_type": "code",
      "metadata": {
        "id": "uCvDCEVdnqAs",
        "colab_type": "code",
        "colab": {
          "base_uri": "https://localhost:8080/",
          "height": 34
        },
        "outputId": "59c56f6e-e616-4d7f-fe13-5abe2a612376"
      },
      "source": [
        "torch.cuda.get_device_name()"
      ],
      "execution_count": 31,
      "outputs": [
        {
          "output_type": "execute_result",
          "data": {
            "text/plain": [
              "'Tesla T4'"
            ]
          },
          "metadata": {
            "tags": []
          },
          "execution_count": 31
        }
      ]
    },
    {
      "cell_type": "code",
      "metadata": {
        "id": "7tVAO8wnpS_F",
        "colab_type": "code",
        "colab": {
          "base_uri": "https://localhost:8080/",
          "height": 34
        },
        "outputId": "ec05a1de-d9ed-4f1c-981e-af728777da82"
      },
      "source": [
        "torch.cuda.get_device_capability()"
      ],
      "execution_count": 34,
      "outputs": [
        {
          "output_type": "execute_result",
          "data": {
            "text/plain": [
              "(7, 5)"
            ]
          },
          "metadata": {
            "tags": []
          },
          "execution_count": 34
        }
      ]
    },
    {
      "cell_type": "code",
      "metadata": {
        "id": "Nl1RnoKrqqVw",
        "colab_type": "code",
        "colab": {
          "base_uri": "https://localhost:8080/",
          "height": 34
        },
        "outputId": "9b65ddc4-af6b-4f98-ced6-afc9fa4bbba3"
      },
      "source": [
        "torch.cuda.get_device_properties(0)"
      ],
      "execution_count": 39,
      "outputs": [
        {
          "output_type": "execute_result",
          "data": {
            "text/plain": [
              "_CudaDeviceProperties(name='Tesla T4', major=7, minor=5, total_memory=15079MB, multi_processor_count=40)"
            ]
          },
          "metadata": {
            "tags": []
          },
          "execution_count": 39
        }
      ]
    },
    {
      "cell_type": "code",
      "metadata": {
        "id": "gczwB4eikcGq",
        "colab_type": "code",
        "colab": {
          "base_uri": "https://localhost:8080/",
          "height": 151
        },
        "outputId": "2b9f8b59-c9a6-46d4-e21a-96366583ee9e"
      },
      "source": [
        "m3"
      ],
      "execution_count": 23,
      "outputs": [
        {
          "output_type": "execute_result",
          "data": {
            "text/plain": [
              "tensor([[0.3970, 0.4790, 0.2680,  ..., 0.1108, 0.6373, 0.5067],\n",
              "        [0.7339, 0.3108, 0.2608,  ..., 0.0706, 0.5811, 0.3187],\n",
              "        [0.5491, 0.2250, 0.5323,  ..., 0.5470, 0.1896, 0.1778],\n",
              "        ...,\n",
              "        [0.7367, 0.3813, 0.7823,  ..., 0.6764, 0.6887, 0.8262],\n",
              "        [0.0457, 0.7883, 0.4293,  ..., 0.4875, 0.5770, 0.3874],\n",
              "        [0.4143, 0.2305, 0.8778,  ..., 0.2479, 0.1336, 0.3094]],\n",
              "       device='cuda:0')"
            ]
          },
          "metadata": {
            "tags": []
          },
          "execution_count": 23
        }
      ]
    },
    {
      "cell_type": "markdown",
      "metadata": {
        "id": "-DP_YC8bDVXw",
        "colab_type": "text"
      },
      "source": [
        "## Visualization"
      ]
    },
    {
      "cell_type": "code",
      "metadata": {
        "id": "k3wHT9Rt0-f-",
        "colab_type": "code",
        "colab": {}
      },
      "source": [
        "df = pd.DataFrame.from_dict(times,orient='index',columns=['best','worst'])\n",
        "df.sort_values(by='worst', inplace=True)"
      ],
      "execution_count": 0,
      "outputs": []
    },
    {
      "cell_type": "code",
      "metadata": {
        "id": "B0uL7gfl_uz_",
        "colab_type": "code",
        "colab": {}
      },
      "source": [
        "#df.drop(labels=['best'],axis=1,inplace=True)"
      ],
      "execution_count": 0,
      "outputs": []
    },
    {
      "cell_type": "code",
      "metadata": {
        "id": "pnV_TR7pDKw5",
        "colab_type": "code",
        "colab": {
          "base_uri": "https://localhost:8080/",
          "height": 316
        },
        "outputId": "ab158642-a623-4806-8e14-27d737a4e3e7"
      },
      "source": [
        " ax = (df*1000).plot.barh(figsize=(10,4),\n",
        "                   title=f'Times of ({m1.shape[0],m1.shape[1]}*{m2.shape[0],m2.shape[1]}) matrices multiplication',\n",
        "                   logx=True, legend=True)\n",
        " ax.set_xlabel('Time, msec')"
      ],
      "execution_count": 18,
      "outputs": [
        {
          "output_type": "execute_result",
          "data": {
            "text/plain": [
              "Text(0.5, 0, 'Time, msec')"
            ]
          },
          "metadata": {
            "tags": []
          },
          "execution_count": 18
        },
        {
          "output_type": "display_data",
          "data": {
            "image/png": "[encoded data removed]",
            "text/plain": [
              "<Figure size 720x288 with 1 Axes>"
            ]
          },
          "metadata": {
            "tags": []
          }
        }
      ]
    },
    {
      "cell_type": "code",
      "metadata": {
        "id": "TFNVS0G1nNCH",
        "colab_type": "code",
        "colab": {}
      },
      "source": [
        ""
      ],
      "execution_count": 0,
      "outputs": []
    }
  ]
}